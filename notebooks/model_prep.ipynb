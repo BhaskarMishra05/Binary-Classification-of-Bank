{
 "cells": [
  {
   "cell_type": "code",
   "execution_count": 54,
   "id": "43ee6b26",
   "metadata": {},
   "outputs": [],
   "source": [
    "import pandas as pd \n",
    "import numpy as np \n",
    "import seaborn as sns\n",
    "import matplotlib.pyplot as plt \n",
    "import warnings as w \n",
    "w.filterwarnings('ignore')\n",
    "sns.set(style='whitegrid')  \n",
    "\n",
    "\n",
    "from sklearn.preprocessing import StandardScaler, OneHotEncoder\n",
    "from sklearn.impute import SimpleImputer\n",
    "from sklearn.model_selection import train_test_split\n",
    "from sklearn.metrics import accuracy_score, precision_score\n",
    "from sklearn.compose import ColumnTransformer\n",
    "from sklearn.pipeline import Pipeline, make_pipeline\n",
    "from sklearn.linear_model import LogisticRegression\n",
    "from sklearn.neighbors import KNeighborsClassifier\n",
    "from sklearn.tree import DecisionTreeClassifier\n",
    "from imblearn.under_sampling import RandomUnderSampler\n",
    "from imblearn.over_sampling import SMOTEN\n",
    "\n",
    "df = pd.read_csv('../artifacts/raw.csv', sep=';')"
   ]
  },
  {
   "cell_type": "code",
   "execution_count": 55,
   "id": "49eeb780",
   "metadata": {},
   "outputs": [],
   "source": [
    "X= df.drop(columns='y', axis=1)\n",
    "y= df['y']\n",
    "\n",
    "X_train, X_test, y_train, y_test = train_test_split(X,y, random_state=42, test_size=0.2 , stratify=y)\n",
    "num_cols= X.select_dtypes(include=['number']).columns.tolist()\n",
    "cat_cols= X.select_dtypes(include=['object']).columns.tolist()\n",
    "num_pipe= Pipeline([('impute', SimpleImputer(strategy='mean')),\n",
    "                    ('scaler', StandardScaler())])\n",
    "\n",
    "cat_pipe= Pipeline([('impute', SimpleImputer(strategy='most_frequent')),\n",
    "                    ('encoder', OneHotEncoder())])\n",
    "preprocessing = ColumnTransformer([('num', num_pipe, num_cols),\n",
    "                                   ('cat', cat_pipe, cat_cols)])\n",
    "\n",
    "sm= SMOTEN()\n",
    "X_ref, y_ref = sm.fit_resample(X_train,y_train) "
   ]
  },
  {
   "cell_type": "code",
   "execution_count": 56,
   "id": "8d336f24",
   "metadata": {},
   "outputs": [
    {
     "name": "stdout",
     "output_type": "stream",
     "text": [
      "LogisticRegression - Train Accuracy: 0.9008\n",
      "LogisticRegression - Test Accuracy:  0.9010\n",
      "\n",
      "KNeighborsClassifier - Train Accuracy: 0.9032\n",
      "KNeighborsClassifier - Test Accuracy:  0.8717\n",
      "\n",
      "DecisionTreeClassifier - Train Accuracy: 1.0000\n",
      "DecisionTreeClassifier - Test Accuracy:  0.8635\n",
      "\n"
     ]
    }
   ],
   "source": [
    "\n",
    "preprocessing.fit(X_train)\n",
    "train_processed = preprocessing.transform(X_train)\n",
    "test_processed = preprocessing.transform(X_test)\n",
    "\n",
    "sm = SMOTEN(random_state=42)\n",
    "X_ref, y_ref = sm.fit_resample(train_processed, y_train)\n",
    "\n",
    "models = {\n",
    "    'LogisticRegression': LogisticRegression(random_state=42),\n",
    "    'KNeighborsClassifier': KNeighborsClassifier(),\n",
    "    'DecisionTreeClassifier': DecisionTreeClassifier(random_state=42)\n",
    "}\n",
    "\n",
    "for name, model in models.items():\n",
    "    model.fit(X_ref, y_ref)\n",
    "\n",
    "    train_pred = model.predict(train_processed)\n",
    "    test_pred = model.predict(test_processed)\n",
    "\n",
    "    train_acc = accuracy_score(y_train, train_pred)\n",
    "    test_acc = accuracy_score(y_test, test_pred)\n",
    "\n",
    "    print(f\"{name} - Train Accuracy: {train_acc:.4f}\")\n",
    "    print(f\"{name} - Test Accuracy:  {test_acc:.4f}\\n\")\n"
   ]
  },
  {
   "cell_type": "code",
   "execution_count": null,
   "id": "617bca46",
   "metadata": {},
   "outputs": [],
   "source": [
    "clf= LogisticRegression()\n",
    "model = make_pipeline(preprocessing, clf)\n",
    "X_train_copy = X_train.copy()\n",
    "y_train_copy = y_train.copy()\n",
    "sm= SMOTEN()\n",
    "X_ref_copy,y_ref_copy = sm.fit_resample(X_train_copy, y_train_copy)\n",
    "model.fit(X_ref_copy, y_ref_copy) \n",
    "y_pred = model.predict(X_test)\n",
    "\n",
    "ref_df=pd.DataFrame({\"Actual\": y_test,\n",
    "              \"Predicted\": y_pred})"
   ]
  },
  {
   "cell_type": "code",
   "execution_count": 66,
   "id": "097858f5",
   "metadata": {},
   "outputs": [
    {
     "data": {
      "text/html": [
       "<div>\n",
       "<style scoped>\n",
       "    .dataframe tbody tr th:only-of-type {\n",
       "        vertical-align: middle;\n",
       "    }\n",
       "\n",
       "    .dataframe tbody tr th {\n",
       "        vertical-align: top;\n",
       "    }\n",
       "\n",
       "    .dataframe thead th {\n",
       "        text-align: right;\n",
       "    }\n",
       "</style>\n",
       "<table border=\"1\" class=\"dataframe\">\n",
       "  <thead>\n",
       "    <tr style=\"text-align: right;\">\n",
       "      <th></th>\n",
       "      <th>Actual</th>\n",
       "      <th>Predicted</th>\n",
       "    </tr>\n",
       "  </thead>\n",
       "  <tbody>\n",
       "    <tr>\n",
       "      <th>1392</th>\n",
       "      <td>no</td>\n",
       "      <td>no</td>\n",
       "    </tr>\n",
       "    <tr>\n",
       "      <th>7518</th>\n",
       "      <td>no</td>\n",
       "      <td>no</td>\n",
       "    </tr>\n",
       "    <tr>\n",
       "      <th>12007</th>\n",
       "      <td>no</td>\n",
       "      <td>no</td>\n",
       "    </tr>\n",
       "    <tr>\n",
       "      <th>5536</th>\n",
       "      <td>no</td>\n",
       "      <td>no</td>\n",
       "    </tr>\n",
       "    <tr>\n",
       "      <th>29816</th>\n",
       "      <td>no</td>\n",
       "      <td>no</td>\n",
       "    </tr>\n",
       "    <tr>\n",
       "      <th>18275</th>\n",
       "      <td>no</td>\n",
       "      <td>no</td>\n",
       "    </tr>\n",
       "    <tr>\n",
       "      <th>8543</th>\n",
       "      <td>no</td>\n",
       "      <td>no</td>\n",
       "    </tr>\n",
       "  </tbody>\n",
       "</table>\n",
       "</div>"
      ],
      "text/plain": [
       "      Actual Predicted\n",
       "1392      no        no\n",
       "7518      no        no\n",
       "12007     no        no\n",
       "5536      no        no\n",
       "29816     no        no\n",
       "18275     no        no\n",
       "8543      no        no"
      ]
     },
     "execution_count": 66,
     "metadata": {},
     "output_type": "execute_result"
    }
   ],
   "source": [
    "ref_df.head(7)"
   ]
  },
  {
   "cell_type": "code",
   "execution_count": null,
   "id": "6d43a353",
   "metadata": {},
   "outputs": [],
   "source": []
  }
 ],
 "metadata": {
  "kernelspec": {
   "display_name": ".venv",
   "language": "python",
   "name": "python3"
  },
  "language_info": {
   "codemirror_mode": {
    "name": "ipython",
    "version": 3
   },
   "file_extension": ".py",
   "mimetype": "text/x-python",
   "name": "python",
   "nbconvert_exporter": "python",
   "pygments_lexer": "ipython3",
   "version": "3.12.3"
  }
 },
 "nbformat": 4,
 "nbformat_minor": 5
}
