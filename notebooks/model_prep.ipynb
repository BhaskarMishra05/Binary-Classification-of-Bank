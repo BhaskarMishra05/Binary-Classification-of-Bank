{
 "cells": [
  {
   "cell_type": "code",
   "execution_count": 25,
   "id": "43ee6b26",
   "metadata": {},
   "outputs": [],
   "source": [
    "import pandas as pd \n",
    "import numpy as np \n",
    "import seaborn as sns\n",
    "import matplotlib.pyplot as plt \n",
    "import warnings as w \n",
    "w.filterwarnings('ignore')\n",
    "sns.set(style='whitegrid')  \n",
    "\n",
    "\n",
    "from sklearn.preprocessing import StandardScaler, OneHotEncoder\n",
    "from sklearn.impute import SimpleImputer\n",
    "from sklearn.model_selection import train_test_split\n",
    "from sklearn.metrics import accuracy_score, precision_score, recall_score\n",
    "from sklearn.compose import ColumnTransformer\n",
    "from sklearn.pipeline import Pipeline, make_pipeline\n",
    "from sklearn.linear_model import LogisticRegression\n",
    "from sklearn.neighbors import KNeighborsClassifier\n",
    "from sklearn.tree import DecisionTreeClassifier\n",
    "from xgboost import XGBClassifier\n",
    "from imblearn.under_sampling import RandomUnderSampler\n",
    "from imblearn.over_sampling import SMOTE, SMOTEN, SMOTENC\n",
    "\n",
    "df = pd.read_csv('../artifacts/raw.csv', sep=';')\n",
    "df['y']= df['y'].map({'yes': 1, 'no': 0})"
   ]
  },
  {
   "cell_type": "code",
   "execution_count": 26,
   "id": "49eeb780",
   "metadata": {},
   "outputs": [],
   "source": [
    "X= df.drop(columns='y', axis=1)\n",
    "y= df['y']\n",
    "\n",
    "X_train, X_test, y_train, y_test = train_test_split(X,y, random_state=42, test_size=0.2 , stratify=y)\n",
    "num_cols= X.select_dtypes(include=['number']).columns.tolist()\n",
    "cat_cols= X.select_dtypes(include=['object']).columns.tolist()\n",
    "num_pipe= Pipeline([('impute', SimpleImputer(strategy='mean')),\n",
    "                    ('scaler', StandardScaler())])\n",
    "\n",
    "cat_pipe= Pipeline([('impute', SimpleImputer(strategy='most_frequent')),\n",
    "                    ('encoder', OneHotEncoder())])\n",
    "preprocessing = ColumnTransformer([('num', num_pipe, num_cols),\n",
    "                                   ('cat', cat_pipe, cat_cols)])\n"
   ]
  },
  {
   "cell_type": "code",
   "execution_count": 27,
   "id": "8d336f24",
   "metadata": {},
   "outputs": [
    {
     "name": "stdout",
     "output_type": "stream",
     "text": [
      "LogisticRegression - Train Accuracy: 0.8466\n",
      "LogisticRegression - Test Accuracy:  0.8467\n",
      "\n",
      "LogisticRegression - Train precision_score: 0.4197\n",
      "LogisticRegression - Test precision_score:  0.4192\n",
      "\n",
      "LogisticRegression - Train recall_score: 0.8128\n",
      "LogisticRegression - Test recall_score:  0.8043\n",
      "\n",
      "KNeighborsClassifier - Train Accuracy: 0.9021\n",
      "KNeighborsClassifier - Test Accuracy:  0.8434\n",
      "\n",
      "KNeighborsClassifier - Train precision_score: 0.5445\n",
      "KNeighborsClassifier - Test precision_score:  0.4063\n",
      "\n",
      "KNeighborsClassifier - Train recall_score: 0.9981\n",
      "KNeighborsClassifier - Test recall_score:  0.7335\n",
      "\n",
      "DecisionTreeClassifier - Train Accuracy: 1.0000\n",
      "DecisionTreeClassifier - Test Accuracy:  0.8670\n",
      "\n",
      "DecisionTreeClassifier - Train precision_score: 1.0000\n",
      "DecisionTreeClassifier - Test precision_score:  0.4445\n",
      "\n",
      "DecisionTreeClassifier - Train recall_score: 1.0000\n",
      "DecisionTreeClassifier - Test recall_score:  0.5491\n",
      "\n",
      "XGBClassifier - Train Accuracy: 0.9471\n",
      "XGBClassifier - Test Accuracy:  0.9072\n",
      "\n",
      "XGBClassifier - Train precision_score: 0.7846\n",
      "XGBClassifier - Test precision_score:  0.6101\n",
      "\n",
      "XGBClassifier - Train recall_score: 0.7549\n",
      "XGBClassifier - Test recall_score:  0.5737\n",
      "\n"
     ]
    }
   ],
   "source": [
    "preprocessing.fit(X_train)\n",
    "train_processed = preprocessing.transform(X_train)\n",
    "test_processed = preprocessing.transform(X_test)\n",
    "\n",
    "sm = SMOTE(random_state=42)\n",
    "X_ref, y_ref = sm.fit_resample(train_processed, y_train)\n",
    "\n",
    "models = {\n",
    "    'LogisticRegression': LogisticRegression(random_state=42),\n",
    "    'KNeighborsClassifier': KNeighborsClassifier(),\n",
    "    'DecisionTreeClassifier': DecisionTreeClassifier(random_state=42),\n",
    "    'XGBClassifier': XGBClassifier()\n",
    "}\n",
    "\n",
    "for name, model in models.items():\n",
    "    model.fit(X_ref, y_ref)\n",
    "\n",
    "    train_pred = model.predict(train_processed)\n",
    "    test_pred = model.predict(test_processed)\n",
    "\n",
    "    train_acc = accuracy_score(y_train, train_pred)\n",
    "    test_acc = accuracy_score(y_test, test_pred)\n",
    "\n",
    "    print(f\"{name} - Train Accuracy: {train_acc:.4f}\")\n",
    "    print(f\"{name} - Test Accuracy:  {test_acc:.4f}\\n\")\n",
    "\n",
    "    train_pre = precision_score(y_train, train_pred, pos_label=1)\n",
    "    test_pre = precision_score(y_test, test_pred, pos_label=1)\n",
    "\n",
    "    print(f\"{name} - Train precision_score: {train_pre:.4f}\")\n",
    "    print(f\"{name} - Test precision_score:  {test_pre:.4f}\\n\")\n",
    "\n",
    "    train_rc = recall_score(y_train, train_pred, pos_label=1)\n",
    "    test_rc = recall_score(y_test, test_pred, pos_label=1)\n",
    "\n",
    "    print(f\"{name} - Train recall_score: {train_rc:.4f}\")\n",
    "    print(f\"{name} - Test recall_score:  {test_rc:.4f}\\n\")\n"
   ]
  },
  {
   "cell_type": "code",
   "execution_count": 28,
   "id": "617bca46",
   "metadata": {},
   "outputs": [],
   "source": [
    "clf= XGBClassifier()\n",
    "model = make_pipeline(preprocessing, clf)\n",
    "X_train_copy = X_train.copy()\n",
    "y_train_copy = y_train.copy()\n",
    "sm= SMOTEN()\n",
    "X_ref_copy,y_ref_copy = sm.fit_resample(X_train_copy, y_train_copy)\n",
    "model.fit(X_ref_copy, y_ref_copy) \n",
    "y_pred = model.predict(X_test)\n",
    "\n",
    "ref_df=pd.DataFrame({\"Actual\": y_test,\n",
    "              \"Predicted\": y_pred})"
   ]
  },
  {
   "cell_type": "code",
   "execution_count": 29,
   "id": "097858f5",
   "metadata": {},
   "outputs": [
    {
     "data": {
      "text/html": [
       "<div>\n",
       "<style scoped>\n",
       "    .dataframe tbody tr th:only-of-type {\n",
       "        vertical-align: middle;\n",
       "    }\n",
       "\n",
       "    .dataframe tbody tr th {\n",
       "        vertical-align: top;\n",
       "    }\n",
       "\n",
       "    .dataframe thead th {\n",
       "        text-align: right;\n",
       "    }\n",
       "</style>\n",
       "<table border=\"1\" class=\"dataframe\">\n",
       "  <thead>\n",
       "    <tr style=\"text-align: right;\">\n",
       "      <th></th>\n",
       "      <th>Actual</th>\n",
       "      <th>Predicted</th>\n",
       "    </tr>\n",
       "  </thead>\n",
       "  <tbody>\n",
       "    <tr>\n",
       "      <th>1392</th>\n",
       "      <td>0</td>\n",
       "      <td>0</td>\n",
       "    </tr>\n",
       "    <tr>\n",
       "      <th>7518</th>\n",
       "      <td>0</td>\n",
       "      <td>0</td>\n",
       "    </tr>\n",
       "    <tr>\n",
       "      <th>12007</th>\n",
       "      <td>0</td>\n",
       "      <td>0</td>\n",
       "    </tr>\n",
       "    <tr>\n",
       "      <th>5536</th>\n",
       "      <td>0</td>\n",
       "      <td>0</td>\n",
       "    </tr>\n",
       "    <tr>\n",
       "      <th>29816</th>\n",
       "      <td>0</td>\n",
       "      <td>0</td>\n",
       "    </tr>\n",
       "    <tr>\n",
       "      <th>18275</th>\n",
       "      <td>0</td>\n",
       "      <td>0</td>\n",
       "    </tr>\n",
       "    <tr>\n",
       "      <th>8543</th>\n",
       "      <td>0</td>\n",
       "      <td>0</td>\n",
       "    </tr>\n",
       "  </tbody>\n",
       "</table>\n",
       "</div>"
      ],
      "text/plain": [
       "       Actual  Predicted\n",
       "1392        0          0\n",
       "7518        0          0\n",
       "12007       0          0\n",
       "5536        0          0\n",
       "29816       0          0\n",
       "18275       0          0\n",
       "8543        0          0"
      ]
     },
     "execution_count": 29,
     "metadata": {},
     "output_type": "execute_result"
    }
   ],
   "source": [
    "ref_df.head(7)"
   ]
  },
  {
   "cell_type": "code",
   "execution_count": 30,
   "id": "3f531620",
   "metadata": {},
   "outputs": [
    {
     "data": {
      "text/plain": [
       "Actual  Predicted\n",
       "0       0            7311\n",
       "        1             674\n",
       "1       1             637\n",
       "        0             421\n",
       "Name: count, dtype: int64"
      ]
     },
     "execution_count": 30,
     "metadata": {},
     "output_type": "execute_result"
    }
   ],
   "source": [
    "ref_df.value_counts()"
   ]
  },
  {
   "cell_type": "code",
   "execution_count": null,
   "id": "7132a259",
   "metadata": {},
   "outputs": [],
   "source": []
  }
 ],
 "metadata": {
  "kernelspec": {
   "display_name": ".venv",
   "language": "python",
   "name": "python3"
  },
  "language_info": {
   "codemirror_mode": {
    "name": "ipython",
    "version": 3
   },
   "file_extension": ".py",
   "mimetype": "text/x-python",
   "name": "python",
   "nbconvert_exporter": "python",
   "pygments_lexer": "ipython3",
   "version": "3.12.3"
  }
 },
 "nbformat": 4,
 "nbformat_minor": 5
}
